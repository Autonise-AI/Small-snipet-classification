{
 "cells": [
  {
   "cell_type": "code",
   "execution_count": null,
   "metadata": {
    "collapsed": true
   },
   "outputs": [],
   "source": [
    "#****Autonise AI ******\n",
    "#Generate word2vec embeddings for all words"
   ]
  },
  {
   "cell_type": "code",
   "execution_count": null,
   "metadata": {
    "collapsed": true
   },
   "outputs": [],
   "source": [
    "import numpy as np\n",
    "import gensim\n",
    "import os\n",
    "import pickle"
   ]
  },
  {
   "cell_type": "code",
   "execution_count": null,
   "metadata": {
    "collapsed": true
   },
   "outputs": [],
   "source": [
    "#Reading given dataset"
   ]
  },
  {
   "cell_type": "code",
   "execution_count": null,
   "metadata": {
    "collapsed": true
   },
   "outputs": [],
   "source": [
    "sentences,target,column3=[],[],[]\n",
    "with open('data.txt', 'r') as f:\n",
    "\tfor i in f:\n",
    "\t\trandom, temp1, temp2, temp3 = i.split('\\t')\n",
    "\t\tsentences.append([x for x in temp1.split(' ')])\n",
    "\t\ttarget.append(temp2)\n",
    "\t\tcolumn3.append(temp3[:-1])"
   ]
  },
  {
   "cell_type": "code",
   "execution_count": null,
   "metadata": {
    "collapsed": true
   },
   "outputs": [],
   "source": [
    "#Ignore headers"
   ]
  },
  {
   "cell_type": "code",
   "execution_count": null,
   "metadata": {
    "collapsed": true
   },
   "outputs": [],
   "source": [
    "sentences = sentences[1:]\n",
    "target = target[1:]"
   ]
  },
  {
   "cell_type": "code",
   "execution_count": null,
   "metadata": {
    "collapsed": true
   },
   "outputs": [],
   "source": [
    "#Making a target label to index mapping and storing it"
   ]
  },
  {
   "cell_type": "code",
   "execution_count": null,
   "metadata": {
    "collapsed": true
   },
   "outputs": [],
   "source": [
    "tset = set(target)\n",
    "total_cat = len(tset)\n",
    "indexes = [x for x in range(total_cat)]\n",
    "zipped = dict(zip(tset,indexes))\n",
    "\n",
    "with open(\"word_to_id.p\", 'wb') as f:\n",
    "\tpickle.dump(zipped, f)"
   ]
  },
  {
   "cell_type": "code",
   "execution_count": null,
   "metadata": {
    "collapsed": true
   },
   "outputs": [],
   "source": [
    "#Loading google's word2vec embedding"
   ]
  },
  {
   "cell_type": "code",
   "execution_count": null,
   "metadata": {
    "collapsed": true
   },
   "outputs": [],
   "source": [
    "model = gensim.models.KeyedVectors.load_word2vec_format('google.bin', binary=True)\n",
    "words = list(model.wv.vocab)\n",
    "data = []\n",
    "ground_truth = []"
   ]
  },
  {
   "cell_type": "code",
   "execution_count": null,
   "metadata": {
    "collapsed": true
   },
   "outputs": [],
   "source": [
    "#Loop over each sentence\n",
    "for i in range(len(sentences)):\n",
    "\tcur_sent = sentences[i]\n",
    "\tcur_out = []\n",
    "\t#Loop over each word in A sentence\n",
    "\tfor j in range(len(cur_sent)):\n",
    "\t\t#Ignore if word does not exist in dictionary\n",
    "\t\ttry:\n",
    "\t\t\tcur_out.append(np.array(model[cur_sent[j]]))\n",
    "\t\texcept:\n",
    "\t\t\tcontinue\n",
    "\tdata.append(np.array(cur_out))\n",
    "\n",
    "\t#one-hot encoded label\n",
    "\ttruth = np.zeros(total_cat)\n",
    "\ttruth[zipped[target[i]]] = 1\n",
    "\tground_truth.append(truth)"
   ]
  },
  {
   "cell_type": "code",
   "execution_count": null,
   "metadata": {
    "collapsed": true
   },
   "outputs": [],
   "source": [
    "#Dump data"
   ]
  },
  {
   "cell_type": "code",
   "execution_count": null,
   "metadata": {
    "collapsed": true
   },
   "outputs": [],
   "source": [
    "data = np.array(data)\n",
    "ground_truth = np.array(ground_truth)\n",
    "to_save = (data,ground_truth)\n",
    "with open(\"final_data_google.p\", 'wb') as f:\n",
    "\tpickle.dump(to_save, f)"
   ]
  }
 ],
 "metadata": {
  "anaconda-cloud": {},
  "kernelspec": {
   "display_name": "Python 3",
   "language": "python",
   "name": "python3"
  },
  "language_info": {
   "codemirror_mode": {
    "name": "ipython",
    "version": 3
   },
   "file_extension": ".py",
   "mimetype": "text/x-python",
   "name": "python",
   "nbconvert_exporter": "python",
   "pygments_lexer": "ipython3",
   "version": "3.5.2"
  }
 },
 "nbformat": 4,
 "nbformat_minor": 1
}
