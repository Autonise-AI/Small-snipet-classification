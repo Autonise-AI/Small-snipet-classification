{
 "cells": [
  {
   "cell_type": "code",
   "execution_count": null,
   "metadata": {
    "collapsed": true
   },
   "outputs": [],
   "source": [
    "#****Autonise AI ******\n",
    "#Clustering"
   ]
  },
  {
   "cell_type": "code",
   "execution_count": null,
   "metadata": {
    "collapsed": true
   },
   "outputs": [],
   "source": [
    "#Loading the dataset"
   ]
  },
  {
   "cell_type": "code",
   "execution_count": 17,
   "metadata": {
    "collapsed": true
   },
   "outputs": [],
   "source": [
    "import pickle\n",
    "from sklearn.cluster import KMeans\n",
    "import numpy as np\n",
    "import matplotlib.pyplot as plt"
   ]
  },
  {
   "cell_type": "code",
   "execution_count": 27,
   "metadata": {
    "collapsed": false
   },
   "outputs": [],
   "source": [
    "with open('final_data_google.p', 'rb') as f:\n",
    "\tdata_ = pickle.load(f)\n",
    "\n",
    "\ttrain_data = data_[0]\n",
    "\ttrain_truth = data_[1]\n",
    "\n",
    "average_data = np.zeros([train_data.shape[0], 300])\n",
    "for i in range(train_data.shape[0]):\n",
    "    average_data[i] = np.mean(train_data[i], axis=0)\n",
    "    \n",
    "column1 = []\n",
    "column2 = []\n",
    "column3 = []\n",
    "\n",
    "with open('data.txt', 'r') as f:\n",
    "\tfor i in f:\n",
    "\t\trandom, temp1, temp2, temp3 = i.split('\\t')\n",
    "\t\tcolumn1.append(temp1)\n",
    "\t\tcolumn2.append(temp2)\n",
    "\t\tcolumn3.append(temp3[:-1])"
   ]
  },
  {
   "cell_type": "code",
   "execution_count": 38,
   "metadata": {
    "collapsed": false
   },
   "outputs": [],
   "source": [
    "loss_array = []\n",
    "\n",
    "for k in range(1, 100, 2):\n",
    "    kmeans = KMeans(n_clusters=k, random_state=0).fit(average_data)\n",
    "    loss_array.append(kmeans.inertia_)"
   ]
  },
  {
   "cell_type": "code",
   "execution_count": 39,
   "metadata": {
    "collapsed": false
   },
   "outputs": [
    {
     "data": {
      "image/png": "[encoded data removed]",
      "text/plain": [
       "<Figure size 432x288 with 1 Axes>"
      ]
     },
     "metadata": {},
     "output_type": "display_data"
    }
   ],
   "source": [
    "#Showing the plot\n",
    "plt.plot(loss_array)\n",
    "plt.show()"
   ]
  },
  {
   "cell_type": "code",
   "execution_count": 41,
   "metadata": {
    "collapsed": false
   },
   "outputs": [],
   "source": [
    "#Found by the knee point in the loss vs k plot\n",
    "optimum_k = 40\n",
    "kmeans = KMeans(n_clusters=optimum_k, random_state=0).fit(average_data)\n",
    "groups = []\n",
    "for i in range(optimum_k):\n",
    "    current_group = []\n",
    "    for j in range(train_data.shape[0]):\n",
    "        if kmeans.labels_[j] == i:\n",
    "            current_group.append(column2[j])\n",
    "    groups.append(current_group)"
   ]
  },
  {
   "cell_type": "code",
   "execution_count": 47,
   "metadata": {
    "collapsed": false
   },
   "outputs": [
    {
     "name": "stdout",
     "output_type": "stream",
     "text": [
      "Garbage\n",
      "cashback_vouchers_stored\n",
      "recharge\n",
      "Balance\n",
      "myidea_raise_sr\n",
      "myidea_remove_linkednumber\n",
      "Garbage\n",
      "cashback_vouchers_usage_redeem\n",
      "cost_of_idea_apps\n",
      "celebration\n",
      "myidea_app_info\n",
      "show_idea_plans_data_booster\n",
      "ideatune_change\n",
      "ideatune_subscription\n",
      "all_idea_apps_start_use\n",
      "ideatune_subscription\n",
      "cashback_vouchers_usage_redeem\n",
      "ideatune_subscription\n",
      "ideatv_episode_synopsis\n",
      "show_idea_plans_data_booster\n",
      "cashback_vouchers_usage_redeem\n",
      "slow_internet\n",
      "show_idea_plans_data_booster\n",
      "ideatune_change\n",
      "myidea_raise_sr\n",
      "ideatune_change\n",
      "cashback_vouchers_usage_redeem\n",
      "ideatune_subscription\n",
      "recharge\n",
      "what_bot_can_do\n",
      "ideatunes_deactivate_service\n",
      "show_idea_plans_data_booster\n",
      "myidea_raise_sr\n",
      "show_idea_plans_data_booster\n",
      "show_idea_plans_data_booster\n",
      "ideatv_download\n",
      "recharge\n",
      "myidea_raise_sr\n",
      "myidea_forget_pass\n",
      "Garbage\n"
     ]
    }
   ],
   "source": [
    "topics = []\n",
    "for i in range(len(groups)):\n",
    "    best_topic = max(set(groups[i]), key = groups[i].count)\n",
    "    print(best_topic)\n",
    "    topics.append(best_topic)"
   ]
  },
  {
   "cell_type": "code",
   "execution_count": 51,
   "metadata": {
    "collapsed": false
   },
   "outputs": [
    {
     "name": "stdout",
     "output_type": "stream",
     "text": [
      "Total number of final topics:  20\n",
      "FINAL TOPICS: \n",
      "\n",
      "myidea_raise_sr\n",
      "recharge\n",
      "ideatunes_deactivate_service\n",
      "celebration\n",
      "ideatv_download\n",
      "myidea_app_info\n",
      "all_idea_apps_start_use\n",
      "show_idea_plans_data_booster\n",
      "ideatune_subscription\n",
      "slow_internet\n",
      "cost_of_idea_apps\n",
      "cashback_vouchers_stored\n",
      "cashback_vouchers_usage_redeem\n",
      "ideatune_change\n",
      "ideatv_episode_synopsis\n",
      "what_bot_can_do\n",
      "myidea_forget_pass\n",
      "Balance\n",
      "Garbage\n",
      "myidea_remove_linkednumber\n"
     ]
    }
   ],
   "source": [
    "print(\"Total number of final topics: \", len(set(topics)))\n",
    "print(\"FINAL TOPICS: \\n\")\n",
    "for topic in set(topics):\n",
    "    print(topic)\n",
    "# print(set(topics))"
   ]
  },
  {
   "cell_type": "code",
   "execution_count": null,
   "metadata": {
    "collapsed": true
   },
   "outputs": [],
   "source": []
  }
 ],
 "metadata": {
  "anaconda-cloud": {},
  "kernelspec": {
   "display_name": "Python 3",
   "language": "python",
   "name": "python3"
  },
  "language_info": {
   "codemirror_mode": {
    "name": "ipython",
    "version": 3
   },
   "file_extension": ".py",
   "mimetype": "text/x-python",
   "name": "python",
   "nbconvert_exporter": "python",
   "pygments_lexer": "ipython3",
   "version": "3.5.2"
  }
 },
 "nbformat": 4,
 "nbformat_minor": 1
}
