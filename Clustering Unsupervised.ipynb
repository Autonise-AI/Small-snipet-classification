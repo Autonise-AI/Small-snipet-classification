{
 "cells": [
  {
   "cell_type": "code",
   "execution_count": null,
   "metadata": {
    "collapsed": true
   },
   "outputs": [],
   "source": [
    "#Clustering"
   ]
  },
  {
   "cell_type": "code",
   "execution_count": null,
   "metadata": {
    "collapsed": true
   },
   "outputs": [],
   "source": [
    "#Loading the dataset"
   ]
  },
  {
   "cell_type": "code",
   "execution_count": 17,
   "metadata": {
    "collapsed": true
   },
   "outputs": [],
   "source": [
    "import pickle\n",
    "from sklearn.cluster import KMeans\n",
    "import numpy as np\n",
    "import matplotlib.pyplot as plt"
   ]
  },
  {
   "cell_type": "code",
   "execution_count": 27,
   "metadata": {
    "collapsed": false
   },
   "outputs": [],
   "source": [
    "with open('final_data_google.p', 'rb') as f:\n",
    "\tdata_ = pickle.load(f)\n",
    "\n",
    "\ttrain_data = data_[0]\n",
    "\ttrain_truth = data_[1]\n",
    "\n",
    "average_data = np.zeros([train_data.shape[0], 300])\n",
    "for i in range(train_data.shape[0]):\n",
    "    average_data[i] = np.mean(train_data[i], axis=0)\n",
    "    \n",
    "column1 = []\n",
    "column2 = []\n",
    "column3 = []\n",
    "\n",
    "with open('data.txt', 'r') as f:\n",
    "\tfor i in f:\n",
    "\t\trandom, temp1, temp2, temp3 = i.split('\\t')\n",
    "\t\tcolumn1.append(temp1)\n",
    "\t\tcolumn2.append(temp2)\n",
    "\t\tcolumn3.append(temp3[:-1])"
   ]
  },
  {
   "cell_type": "code",
   "execution_count": null,
   "metadata": {
    "collapsed": false
   },
   "outputs": [],
   "source": [
    "loss_array = []\n",
    "\n",
    "for k in range(1, 100, 2):\n",
    "    kmeans = KMeans(n_clusters=k, random_state=0).fit(average_data)\n",
    "    loss_array.append(kmeans.inertia_)"
   ]
  },
  {
   "cell_type": "code",
   "execution_count": 34,
   "metadata": {
    "collapsed": false
   },
   "outputs": [
    {
     "data": {
      "image/png": "[encoded data removed]",
      "text/plain": [
       "<Figure size 432x288 with 1 Axes>"
      ]
     },
     "metadata": {},
     "output_type": "display_data"
    }
   ],
   "source": [
    "#Showing the plot\n",
    "plt.plot(loss_array)\n",
    "plt.show()"
   ]
  },
  {
   "cell_type": "code",
   "execution_count": 35,
   "metadata": {
    "collapsed": false
   },
   "outputs": [
    {
     "name": "stdout",
     "output_type": "stream",
     "text": [
      "['how to act', 'how to activate', 'how to activate 2gb data per day', 'how to activate 3gb data', 'how to activate account last week itself rechargef', 'how to activate add on', 'how to activate add on data', 'how to activate add on pack', 'how to activate add on plan', 'how to activate airplane', 'how to activate cadbury celebrations plan in my mobile', 'how to activate cadburys offer', 'how to activate calibration offer', 'how to activate call service', 'how to activate callers tune', 'how to activate calls on idea', 'how to activate celebrate pack', 'how to activate celebration pack', 'how to activate celebration pack for myideanumber', 'how to activate celebration pack in myideanumber', 'how to activate celibration offer', 'how to activate channel pack', 'how to activate dairy milk offer in idea', 'how to activate data', 'how to activate data buster plan', 'how to activate databooster that i just baught', 'how to activate in 5gb data 6202624626', 'how to activate in my number idea celebration package', 'how to activate international calling', 'how to activate international calls', 'how to activate isd', 'how to activate isd calls', 'how to activate isd services', 'how to activate it', 'how to activate idea celebration', 'how to activate idea celebrity pack in this mobile', 'how to activate idea celibration pack', 'how to activate idea in newly bought idea2 phone', 'how to activate idea offer', 'how to activate idea september offer', 'how to activate idea service on', 'how to activate idea tune', 'how to activate idea voice calls', 'how to activate idea4gvoice', 'how to activate idea4gvoice app', 'how to activate ideaapp', 'how to activate ideanetwork in newly bought idea2 phone', 'how to activate ideaphone', 'how to activate ideaphone', 'how to activate ideaphone 2 sim', 'how to activate ideaphone 2 sim', 'how to activate ideasim for ideaphone 2', 'how to activate ideasim for micromax tab p701', 'how to activate ideasim in ideaphone 2', 'how to activate mi note 5 pro and idea offer', 'how to activate miss call alert in idea', 'how to activate miss call alerts', 'how to activate missed call alert', 'how to activate missed call alert services', 'how to activate mp3 music', 'how to activate my', 'how to activate my 17 gb data', 'how to activate my 198 plan', 'how to activate my 799 plan', 'how to activate my account', 'how to activate my call', 'how to activate my celebration', 'how to activate my data booster', 'how to activate my net pack', 'how to activate my new plan', 'how to activate my phone', 'how to activate my second recharge', 'how to activate my vouchers in my phone', 'how to activate my whatsapp', 'how to activate myidea celebration pack', 'how to activate myidea celebration package', 'how to activate myidea celebrations pack of 2gb', 'how to activate myidea no', 'how to activate myideaid', 'how to activate myideaplan', 'how to activate myideasim', 'how to activate mystikal alert', 'how to activate mystikal on earth', 'how to activate new ideasim in idea to phone', 'how to activate offer on real me 2', 'how to activate plan for 7 days free call and internet', 'how to activate poco f1 offer', 'how to activate recharge my number', 'how to activate redeem', 'how to activate sim ideasim', 'how to activate skyojna', 'how to activate special celebration pack', 'how to activate thank you offer', 'how to activate the data booster', 'how to activate the voice call service', 'how to activate this data', 'how to activate volte e', 'how to activate voucher', 'how to activation internet extra', 'how to de active caller tune', 'how to deactivate', 'how to deactivate a number from ideanumber list', 'how to deactivate a plan', 'how to deactivate another activated number', 'how to deactivate call forwardind', 'how to deactivate call forwarding', 'how to deactivate current data plan', 'how to deactivate current plan', 'how to deactivate email notifications about data usage', 'how to deactivate existing', 'how to deactivate existing plan', 'how to deactivate hello tunes', 'how to deactivate idea auto pay', 'how to deactivate idea autopay', 'how to deactivate idea caller', 'how to deactivate idea celebration pack', 'how to deactivate idea postpaid', 'how to deactivate idea postpaid sim', 'how to deactivate idea tune', 'how to deactivate ideanumbers', 'how to deactivate ideasime', 'how to deactivate linked number', 'how to deactivate manual', 'how to deactivate my', 'how to deactivate my 52 rupees packs', 'how to deactivate my account', 'how to deactivate my caller tune', 'how to deactivate my device', 'how to deactivate my email ready', 'how to deactivate my linked number', 'how to deactivate my number', 'how to deactivate my plan', 'how to deactivate my two other numbers', 'how to deactivate myideanumber in activate another number deactivate', 'how to deactivate myideanumber in myideaapplication', 'how to deactivate myideasim card', 'how to deactivate myideatune', 'how to deactivate set tunes', 'how to deactivate the divert calls', 'how to deactivate the ship', 'how to direct video call', 'how to disable idea tune', 'how to hack idea tone', 'how to idea wifi modem details', 'how to ideasim to offline calling', 'how to reactivate my sim', 'how to sim actib', 'how to sim deactivate', 'how to talking with ideasim', 'how to update', 'how tumhare hawale watan sathiyo']\n"
     ]
    }
   ],
   "source": [
    "#Found by the knee point in the loss vs k plot\n",
    "optimum_k = 20\n",
    "kmeans = KMeans(n_clusters=optimum_k, random_state=0).fit(average_data)\n",
    "groups = []\n",
    "for i in range(optimum_k):\n",
    "    current_group = []\n",
    "    for j in range(train_data.shape[0]):\n",
    "        if kmeans.labels_[j] == i:\n",
    "            current_group.append(column2[j])\n",
    "    groups.append(current_group)\n",
    "            \n",
    "print(groups[0])"
   ]
  },
  {
   "cell_type": "code",
   "execution_count": 36,
   "metadata": {
    "collapsed": false
   },
   "outputs": [
    {
     "name": "stdout",
     "output_type": "stream",
     "text": [
      "['how to call truecaller', 'how to call you', 'how to cancel my recharge', 'how to check airtel pack', 'how to close your application', 'how to do mnp message without sms balance', 'how to fix network issue indoor cover', 'how to hold enabled in my phone', 'how to listening song', 'how to make a collage in phone', 'how to myidea performance', 'how to not working 4g data full time network error', 'how to order a new battery for myideafi device', 'how to put caller ringtone on my number', 'how to samsung j7 mobile ka internet open', 'how to send your drone', 'how to set 02', 'how to set 4g settings in my phone', 'how to set 4lte only', 'how to set a callar tuna', 'how to set a calling tune in ideanumber', 'how to set a color do you want', 'how to set a my name rington', 'how to set a new popular race video tune', 'how to set a song on incoming calls', 'how to set a tune', 'how to set a welcome tune to myideanumber', 'how to set ajith dialogue has ideatune', 'how to set alert you are not downloading ideamusic', 'how to set alternative no for ideafi', 'how to set an', 'how to set an update', 'how to set analysis in english', 'how to set any song in youtube', 'how to set apn send idea apn', 'how to set at youtube', 'how to set beard on', 'how to set bump', 'how to set call timings', 'how to set caller tune', 'how to set callertune own idea no', 'how to set calls music', 'how to set cannot even', 'how to set channel', 'how to set collectively', 'how to set color teal on my number', 'how to set connor doing', 'how to set customer id', 'how to set dialect song for my phone', 'how to set four g volte', 'how to set free job alert youtube', 'how to set fridge youtube', 'how to set g', 'how to set hallotown', 'how to set hello tune demo', 'how to set hellotune', 'how to set how to set a song on incoming calls', 'how to set i am listening in english how to set', 'how to set in gibraltar', 'how to set international roaming', 'how to set idea calltun in my mobile', 'how to set idea data from ideasim to airtel', 'how to set idea free offer today', 'how to set idea ringtone without using ideaapp ideamusic app', 'how to set idea ringtones', 'how to set idea routine', 'how to set idea to more i am missing in hindi', 'how to set idea tower', 'how to set idea tune', 'how to set idea tune and not supported ideaapp', 'how to set idea tune because in my mobile in ideamusic idea tune select one option is in black and not coming', 'how to set idea tune for single number', 'how to set idea tune in mobile app in ideamusic select idea tune options is not coming', 'how to set idea tune in my number', 'how to set idea tune my moblie', 'how to set idea tune not set in ideaapp music', 'how to set idea tune on my number', 'how to set idea tune without ideamusic app', 'how to set idea tunes', 'how to set idea tunes', 'how to set idea voice incoming tone', 'how to set ideaapp', 'how to set ideacinema', 'how to set ideaid', 'how to set ideamusic', 'how to set ideanetwork', 'how to set ideaphone', 'how to set ideasim', 'how to set ideasim in my phone', 'how to set ideatone', 'how to set ideatune', 'how to set ideatune a malik tete ban', 'how to set ideatune as ring tone', 'how to set ideatune ideaphone', 'how to set ideatunek', 'how to set ideatv', 'how to set johto', 'how to set joota', 'how to set jude', 'how to set language in english idea messages', 'how to set lte in lenovo k6 note mobile', 'how to set missed call alertt', 'how to set my 4g setings in my no', 'how to set my caller tone', 'how to set my dialler tones', 'how to set my language song', 'how to set my own idea tune from my storage', 'how to set my wifi password', 'how to set myidea hotspot password and username', 'how to set myidea tower', 'how to set myideanumber', 'how to set myideaphone', 'how to set myideatone', 'how to set network of idea on asus phone', 'how to set no no no no no no', 'how to set password in myideaid', 'how to set ping websites', 'how to set quality one on my mobile', 'how to set ring', 'how to set ringtone for myideanumber', 'how to set ringtone in myideanumber', 'how to set ringtones', 'how to set shoot', 'how to set songs in ideasim', 'how to set the apps', 'how to set the four g volte', 'how to set the generate', 'how to set the j2', 'how to set the ideatone', 'how to set this song sri lankan church chennai', 'how to set up idea hotspot in myideaapp', 'how to set up my device', 'how to set up vpn', 'how to set volite', 'how to set you though', 'how to set your phone', 'how to set your tv on', 'how to set youtube', 'how to setting another idea link', 'how to setting anothr jo sjm', 'how to setting for ideatv app', 'how to setting music', 'how to setting the number phone', 'how to speed up myideasim', 'how toredoom 50 rupees coupon', 'how transportation today', 'how we can select app in ideachat', 'how we recharge our phone']\n"
     ]
    }
   ],
   "source": [
    "print(groups[1])\n"
   ]
  },
  {
   "cell_type": "code",
   "execution_count": 37,
   "metadata": {
    "collapsed": false
   },
   "outputs": [
    {
     "name": "stdout",
     "output_type": "stream",
     "text": [
      "['how to access google', 'how to activate idea tunes tunes on ideamusic', 'how to activate the daughter booster plan', 'how to activate the idea idea celebration', 'how to activate the idea voice call 4g', 'how to active free net on idea by cadbury dairy milk', 'how to active ideatune', 'how to add booster pack on your data', 'how to add this number', 'how to advance talktime idea', 'how to allow phone calls in ideasim', 'how to apply cadbury dairy milk offer on ideaphone', 'how to attach the plan', 'how to backup my data', 'how to block a sim card', 'how to block business calls', 'how to block the ideasim number', 'how to booking', 'how to cadbury scanner idea data', 'how to call', 'how to call a forn country', 'how to call at idea', 'how to call detail in today', 'how to call detail on myideaapp', 'how to call details other number', 'how to call divert in ideanumber', 'how to call from idea', 'how to call from ideaapp', 'how to call in idea', 'how to call in roaming', 'how to call international call calling', 'how to call kar deta hai aaj kar deta hai 12 baje raat mein diwana kar diya', 'how to call lte mobile', 'how to call massage will be activate in my mobile', 'how to call myideanumber in any other services', 'how to call myideasim', 'how to call on idea device', 'how to call on idea direct call', 'how to call other network numburs in idea fi', 'how to call other people', 'how to call other phone', 'how to call other phone from myideanumber', 'how to call record', 'how to call to customer', 'how to call tune setting', 'how to call when internet in order', 'how to call with idea', 'how to call with ideasim', 'how to call without internet', 'how to call without online', 'how to callar tune set this no', 'how to caller name speaker', 'how to calling', 'how to calorie count', 'how to change calldivert', 'how to change caller', 'how to change caller ringtone', 'how to change caller tone', 'how to change idea prime', 'how to change myidea account on my name', 'how to change myideaid', 'how to change password of idea device', 'how to change prepaid number', 'how to change sim name', 'how to change the alternate number to which ideafi is linked', 'how to change the call ringtone', 'how to check call logs', 'how to check call record', 'how to check in idea myideaapp', 'how to check incoming calls', 'how to clear a payment for prime membership', 'how to complinte about idea', 'how to connect the idea dongle local', 'how to connect to vizio ideacare', 'how to consume my 8gb plan', 'how to contact', 'how to contact customer care of ideacare', 'how to contact to take ideagigafiber', 'how to customer id', 'how to data uses in display', 'how to deactivate voice in idea', 'how to deattach paytm from myideaapp', 'how to delete idea call history', 'how to destroy idea', 'how to dion is be in the songs', 'how to disable assistant', 'how to display in data uses', 'how to do bgv means', 'how to do call', 'how to do call diversion', 'how to do idea prime', 'how to do minister of', 'how to do other sim card recharge', 'how to do redeem', 'how to do this bank', 'how to do voice message', 'how to draw science activity', 'how to edit my profile name', 'how to enable or activate ir in my phone', 'how to exchange ideaphone', 'how to fill up idea prime', 'how to find contact list', 'how to format my phone', 'how to forward my coupon to another ideanumber', 'how to forward outgoing messages', 'how to forwarding call', 'how to generate', 'how to get cadbury dairy milk offer', 'how to get call details of another ideanumber', 'how to get call details of other ideanumber', 'how to get call logs', 'how to get call logs in ideaphone', 'how to get mi note 5 pro cash back', 'how to get more mb', 'how to get more the', 'how to get ringtone back in my mob', 'how to get the benefit of using idea in mi y2 moble', 'how to get the call history on myideaapplication', 'how to get the coupons', 'how to get to idea wifi', 'how to give permission to check mobile network state', 'how to go out service calling khul jaye', 'how to hack paytm', 'how to help help help', 'how to i am use hello tunes simons ringtones other', 'how to increase the validity', 'how to install idea4gvoice', 'how to idea unlimited net', 'how to ideasim price new', 'how to keep a hollow tune on idea', 'how to keep our phone ringtone on other phone coming', 'how to keep our ringtone go to another phone ringtone', 'how to know the last date of net offer', 'how to know the number of idea instant otherwise', 'how to link paytm to cell number', 'how to make 398 payment by amazon', 'how to make a 4g idea voice call', 'how to make a call', 'how to make a call from idea', 'how to make a call through ideasim card', 'how to make a call with roots number', 'how to make a call without data connection', 'how to make a calls', 'how to make a new account', 'how to make a night out going call', 'how to make a phone call', 'how to make a video', 'how to make a view', 'how to make an address change', 'how to make call', 'how to make call in idea', 'how to make call without offline', 'how to make calling', 'how to make calls', 'how to make calls from this app', 'how to make calls in this mobile', 'how to make cold coffee at home', 'how to make helo tune', 'how to make helpline', 'how to make idea account', 'how to make led', 'how to make one day data', 'how to make payment using amazon payment', 'how to make recharges using vouchers', 'how to make rice call without internet', 'how to make ring tone', 'how to make speed better', 'how to make the call what to do', 'how to make user', 'how to make video call from download', 'how to make video call from my this device from asus zenfone0prom1', 'how to make video calls on idea4gvoice', 'how to make video calls on myidea contact', 'how to message in idea', 'how to more gb per day', 'how to pay 50 ruppee voucher', 'how to play convent kbc', 'how to play the game clash of clans', 'how to practice for ielts english listening', 'how to provide permission', 'how to put dialler tone in ideamusic', 'how to reachag other numbers', 'how to reclaim my recharge amount', 'how to record a call', 'how to record a voice', 'how to record audio', 'how to record caller audio', 'how to record my jail', 'how to record phone calls', 'how to register the id', 'how to relece 1gb data', 'how to remove add on data', 'how to remove call history', 'how to remove call history in myideaapp', 'how to remove ideatune i do not want any song', 'how to remove the account', 'how to remove the mulching paper', 'how to remove this popup of symbol', 'how to reuse the day remaining data over a day', 'how to save', 'how to say ok', 'how to search youtube', 'how to select a network', 'how to select idea tune for mobile in ideamusic it is not the option', 'how to send a', 'how to send ideamoney to paytm', 'how to send message', 'how to send message to another one', 'how to send more than 100 message at a time', 'how to send msg', 'how to send photos', 'how to send ringtone', 'how to send sexy messages', 'how to send sms', 'how to send sms by idea', 'how to set a paytm', 'how to set alert', 'how to set idea cab', 'how to set match youtube', 'how to set miss call alert service', 'how to set missed call alert', 'how to set on mobile', 'how to set the myidea ringtone my number', 'how to setting ringtone mobile', 'how to share data from one number to another number', 'how to solve it', 'how to speak', 'how to start sky plan', 'how to stop advertisement of idea after a call', 'how to stop caller tune', 'how to stop caller tunes', 'how to stop current plan', 'how to stop idea calltune', 'how to stop idea incoming calls', 'how to stop statement', 'how to stop this audio', 'how to stop unwanted message', 'how to store myanmar', 'how to subscribe the idea', 'how to switch plans', 'how to take new contacts', 'how to talk idea customer', 'how to today deta', 'how to transfer the amount', 'how to turn off', 'how to update activate ideatv', 'how to update myidea', 'how to use booter pack', 'how to use ideachat', 'how to use ideanet slow', 'how to use voice access', 'how to utilise myideamoney', 'how to view our recharge bill', 'how to visit', 'how to voice call', 'how to voice call without online', 'how validity in ideaphone', 'how was weather today', 'how we buy something', 'how we call settings', 'how we check our balance', 'how we set idea calling ringtone']\n"
     ]
    }
   ],
   "source": [
    "print(groups[2])"
   ]
  },
  {
   "cell_type": "code",
   "execution_count": null,
   "metadata": {
    "collapsed": true
   },
   "outputs": [],
   "source": []
  }
 ],
 "metadata": {
  "anaconda-cloud": {},
  "kernelspec": {
   "display_name": "Python 3",
   "language": "python",
   "name": "python3"
  },
  "language_info": {
   "codemirror_mode": {
    "name": "ipython",
    "version": 3
   },
   "file_extension": ".py",
   "mimetype": "text/x-python",
   "name": "python",
   "nbconvert_exporter": "python",
   "pygments_lexer": "ipython3",
   "version": "3.5.2"
  }
 },
 "nbformat": 4,
 "nbformat_minor": 1
}
