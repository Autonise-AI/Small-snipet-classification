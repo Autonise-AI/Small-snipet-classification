{
 "cells": [
  {
   "cell_type": "code",
   "execution_count": null,
   "metadata": {
    "collapsed": true
   },
   "outputs": [],
   "source": [
    "#Fast Text"
   ]
  },
  {
   "cell_type": "code",
   "execution_count": null,
   "metadata": {
    "collapsed": true
   },
   "outputs": [],
   "source": [
    "#Imports"
   ]
  },
  {
   "cell_type": "code",
   "execution_count": null,
   "metadata": {
    "collapsed": true
   },
   "outputs": [],
   "source": [
    "import pandas as pd\n",
    "from sklearn.model_selection import train_test_split\n",
    "from sklearn.pipeline import Pipeline\n",
    "from sklearn.feature_extraction.text import CountVectorizer\n",
    "from sklearn.feature_extraction.text import TfidfTransformer\n",
    "from sklearn.naive_bayes import MultinomialNB\n",
    "import numpy as np\n",
    "import fasttext"
   ]
  },
  {
   "cell_type": "code",
   "execution_count": null,
   "metadata": {
    "collapsed": true
   },
   "outputs": [],
   "source": [
    "#Load the data"
   ]
  },
  {
   "cell_type": "code",
   "execution_count": null,
   "metadata": {
    "collapsed": true
   },
   "outputs": [],
   "source": [
    "column1 = []\n",
    "column2 = []\n",
    "column3 = []\n",
    "\n",
    "with open('data.txt', 'r') as f:\n",
    "\tfor i in f:\n",
    "\t\trandom, temp1, temp2, temp3 = i.split('\\t')\n",
    "\t\tcolumn1.append(temp1)\n",
    "\t\tcolumn2.append(temp2)\n",
    "\t\tcolumn3.append(temp3[:-1])\n",
    "        \n",
    "X_train, X_test, y_train, y_test = train_test_split(column1[1:], column2[1:], test_size=0.1, random_state=5)\n",
    "\n",
    "with open('train.txt','w') as file:\n",
    "    for k,v in zip(X_train,y_train):\n",
    "        file.write(\"@#$\"+v.replace(\" \",\"\")+\" \" +k+\"\\n\")\n",
    "\n",
    "\n",
    "with open('test.txt','w') as file:\n",
    "    for k,v in zip(X_test,y_test):\n",
    "        file.write(\"@#$\"+v.replace(\" \",\"\")+\" \" +k+\"\\n\")"
   ]
  },
  {
   "cell_type": "code",
   "execution_count": null,
   "metadata": {
    "collapsed": true
   },
   "outputs": [],
   "source": [
    "#Initialise To_Save Variables"
   ]
  },
  {
   "cell_type": "code",
   "execution_count": null,
   "metadata": {
    "collapsed": true
   },
   "outputs": [],
   "source": [
    "size = [len(range(200, 400, 50)), len(range(100, 1000, 100)), len(range(100, 151, 50))]\n",
    "\n",
    "accuracy_array = np.zeros(size)\n",
    "precision_train_array = np.zeros(size)\n",
    "precision_test_array = np.zeros(size)\n",
    "recall_train_array = np.zeros(size)\n",
    "recall_test_array = np.zeros(size)"
   ]
  },
  {
   "cell_type": "code",
   "execution_count": null,
   "metadata": {
    "collapsed": true
   },
   "outputs": [],
   "source": [
    "#Grid Run"
   ]
  },
  {
   "cell_type": "code",
   "execution_count": null,
   "metadata": {
    "collapsed": true
   },
   "outputs": [],
   "source": [
    "for __i, dim_ in enumerate(range(200, 400, 50)):\n",
    "  for __j, lr_10000 in enumerate(range(100, 1000, 100)):\n",
    "    for __k, epoch_i in enumerate(range(100, 151, 50)):\n",
    "      print(dim_ ,' : is the dim')\n",
    "      print(lr_10000/10000 ,' : is the lr')\n",
    "      print(epoch_i ,' : is the epoch_i')\n",
    "\n",
    "      \n",
    "      classifier = fasttext.supervised('train.txt', 'model',label_prefix=\"@#$\",dim=dim_,lr=lr_10000/10000,ws=30,\n",
    "                                 epoch=epoch_i,minn=5,silent=0,lr_update_rate=200)\n",
    "\n",
    "      result = classifier.test('train.txt')\n",
    "\n",
    "      \n",
    "      print('P@1:', result.precision)\n",
    "      print('R@1:', result.recall)\n",
    "      print('Number of examples:', result.nexamples)\n",
    "\n",
    "      precision_train_array[__i, __j, __k] = result.precision\n",
    "      recall_train_array[__i, __j, __k] = result.recall\n",
    "\n",
    "      result = classifier.test('test.txt')\n",
    "      print('P@1:', result.precision)\n",
    "      print('R@1:', result.recall)\n",
    "      print('Number of examples:', result.nexamples)\n",
    "\n",
    "      precision_test_array[__i, __j, __k] = result.precision\n",
    "      recall_test_array[__i, __j, __k] = result.recall\n",
    "\n",
    "      output = classifier.predict_proba(X_test)\n",
    "\n",
    "      accuracy = 0\n",
    "      for i in range(len(X_test)):\n",
    "        # print(y_test[i], output[i][0][0])\n",
    "        if output[i][0][0] == y_test[i]:\n",
    "          accuracy += 1\n",
    "\n",
    "      accuracy_array[__i, __j, __k] = accuracy/len(X_test)\n",
    "\n",
    "      print('Accuracy on test is :', accuracy/len(X_test))"
   ]
  },
  {
   "cell_type": "code",
   "execution_count": null,
   "metadata": {
    "collapsed": true
   },
   "outputs": [],
   "source": [
    "#Saving the run variables"
   ]
  },
  {
   "cell_type": "code",
   "execution_count": null,
   "metadata": {
    "collapsed": true
   },
   "outputs": [],
   "source": [
    "np.save('accuracy_array', accuracy_array)\n",
    "np.save('precision_train_array', precision_train_array)\n",
    "np.save('precision_test_array', precision_test_array)\n",
    "np.save('recall_train_array', recall_train_array)\n",
    "np.save('recall_test_array', recall_test_array)"
   ]
  }
 ],
 "metadata": {
  "anaconda-cloud": {},
  "kernelspec": {
   "display_name": "Python 3",
   "language": "python",
   "name": "python3"
  },
  "language_info": {
   "codemirror_mode": {
    "name": "ipython",
    "version": 3
   },
   "file_extension": ".py",
   "mimetype": "text/x-python",
   "name": "python",
   "nbconvert_exporter": "python",
   "pygments_lexer": "ipython3",
   "version": "3.5.2"
  }
 },
 "nbformat": 4,
 "nbformat_minor": 1
}
