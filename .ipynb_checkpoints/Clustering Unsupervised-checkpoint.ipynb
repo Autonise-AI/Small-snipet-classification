{
 "cells": [
  {
   "cell_type": "code",
   "execution_count": null,
   "metadata": {
    "collapsed": true
   },
   "outputs": [],
   "source": [
    "#Clustering"
   ]
  },
  {
   "cell_type": "code",
   "execution_count": null,
   "metadata": {
    "collapsed": true
   },
   "outputs": [],
   "source": [
    "#Loading the dataset"
   ]
  },
  {
   "cell_type": "code",
   "execution_count": 17,
   "metadata": {
    "collapsed": true
   },
   "outputs": [],
   "source": [
    "import pickle\n",
    "from sklearn.cluster import KMeans\n",
    "import numpy as np\n",
    "import matplotlib.pyplot as plt"
   ]
  },
  {
   "cell_type": "code",
   "execution_count": 27,
   "metadata": {
    "collapsed": false
   },
   "outputs": [],
   "source": [
    "with open('final_data_google.p', 'rb') as f:\n",
    "\tdata_ = pickle.load(f)\n",
    "\n",
    "\ttrain_data = data_[0]\n",
    "\ttrain_truth = data_[1]\n",
    "\n",
    "average_data = np.zeros([train_data.shape[0], 300])\n",
    "for i in range(train_data.shape[0]):\n",
    "    average_data[i] = np.mean(train_data[i], axis=0)\n",
    "    \n",
    "column1 = []\n",
    "column2 = []\n",
    "column3 = []\n",
    "\n",
    "with open('data.txt', 'r') as f:\n",
    "\tfor i in f:\n",
    "\t\trandom, temp1, temp2, temp3 = i.split('\\t')\n",
    "\t\tcolumn1.append(temp1)\n",
    "\t\tcolumn2.append(temp2)\n",
    "\t\tcolumn3.append(temp3[:-1])"
   ]
  },
  {
   "cell_type": "code",
   "execution_count": null,
   "metadata": {
    "collapsed": false
   },
   "outputs": [],
   "source": [
    "loss_array = []\n",
    "\n",
    "for k in range(1, 100, 2):\n",
    "    kmeans = KMeans(n_clusters=k, random_state=0).fit(average_data)\n",
    "    loss_array.append(kmeans.inertia_)"
   ]
  },
  {
   "cell_type": "code",
   "execution_count": null,
   "metadata": {
    "collapsed": false
   },
   "outputs": [],
   "source": [
    "#Showing the plot\n",
    "plt.plot(loss_array)\n",
    "plt.show()"
   ]
  },
  {
   "cell_type": "code",
   "execution_count": null,
   "metadata": {
    "collapsed": false
   },
   "outputs": [],
   "source": [
    "#Found by the knee point in the loss vs k plot\n",
    "optimum_k = 20\n",
    "kmeans = KMeans(n_clusters=optimum_k, random_state=0).fit(average_data)\n",
    "groups = []\n",
    "for i in range(optimum_k):\n",
    "    current_group = []\n",
    "    for j in range(train_data.shape[0]):\n",
    "        if kmeans.labels_[j] == i:\n",
    "            current_group.append(column2[j])\n",
    "    groups.append(current_group)\n",
    "            \n",
    "print(groups[0])"
   ]
  },
  {
   "cell_type": "code",
   "execution_count": null,
   "metadata": {
    "collapsed": false
   },
   "outputs": [],
   "source": [
    "print(groups[1])\n"
   ]
  },
  {
   "cell_type": "code",
   "execution_count": null,
   "metadata": {
    "collapsed": false
   },
   "outputs": [],
   "source": [
    "print(groups[2])"
   ]
  },
  {
   "cell_type": "code",
   "execution_count": null,
   "metadata": {
    "collapsed": true
   },
   "outputs": [],
   "source": []
  }
 ],
 "metadata": {
  "anaconda-cloud": {},
  "kernelspec": {
   "display_name": "Python 3",
   "language": "python",
   "name": "python3"
  },
  "language_info": {
   "codemirror_mode": {
    "name": "ipython",
    "version": 3
   },
   "file_extension": ".py",
   "mimetype": "text/x-python",
   "name": "python",
   "nbconvert_exporter": "python",
   "pygments_lexer": "ipython3",
   "version": "3.5.2"
  }
 },
 "nbformat": 4,
 "nbformat_minor": 1
}
